{
 "cells": [
  {
   "cell_type": "code",
   "execution_count": 1,
   "metadata": {},
   "outputs": [],
   "source": [
    "import time\n",
    "import firebase_admin\n",
    "from firebase_admin import credentials, db\n",
    "from datetime import datetime\n",
    "import os"
   ]
  },
  {
   "cell_type": "markdown",
   "metadata": {},
   "source": [
    "# INIT DB\n",
    "Only run this blocl one time."
   ]
  },
  {
   "cell_type": "code",
   "execution_count": 2,
   "metadata": {},
   "outputs": [
    {
     "data": {
      "text/plain": [
       "<firebase_admin.App at 0x111e6b2b0>"
      ]
     },
     "execution_count": 2,
     "metadata": {},
     "output_type": "execute_result"
    }
   ],
   "source": [
    "cred = credentials.Certificate(\"keys/touri-65f07-firebase-adminsdk-wuv71-3751c21aa8.json\")\n",
    "firebase_admin.initialize_app(cred, {'databaseURL': 'https://touri-65f07-default-rtdb.firebaseio.com/'})\n"
   ]
  },
  {
   "cell_type": "markdown",
   "metadata": {},
   "source": [
    "# HELPER FUNCTIONS"
   ]
  },
  {
   "cell_type": "code",
   "execution_count": 22,
   "metadata": {},
   "outputs": [],
   "source": [
    "def upload_list_of_objects(list_of_objects):\n",
    "    '''\n",
    "    list_of_objects -> list of objects\n",
    "    '''\n",
    "    #Upload the list to firebase\n",
    "    db.reference('objects').child('detected_objs').set(list_of_objects)"
   ]
  },
  {
   "cell_type": "code",
   "execution_count": 30,
   "metadata": {},
   "outputs": [],
   "source": [
    "def print_detected_objects():\n",
    "    obj_ref = db.reference('/objects/detected_objs')\n",
    "    detected_objects = obj_ref.get()\n",
    "    print(detected_objects)"
   ]
  },
  {
   "cell_type": "code",
   "execution_count": 28,
   "metadata": {},
   "outputs": [],
   "source": [
    "def select_room_num(room_num, auto_null = True):\n",
    "    '''\n",
    "    Select one of the following for room_num:\n",
    "    room_num -> room 3108, room 3109, room 3110, room 3111\n",
    "    auto_null -> True or False [DEFAULT = True] -> if True, then set room_num to None after 2 seconds\n",
    "    '''\n",
    "\n",
    "    assert room_num in ['room 3108', 'room 3109', 'room 3110', 'room 3111'], \"Invalid room number\"\n",
    "    db.reference(\"/nav/room_num\").set(room_num)\n",
    "    if auto_null:\n",
    "        time.sleep(2)\n",
    "        db.reference(\"/nav/room_num\").set(\"None\")\n"
   ]
  },
  {
   "cell_type": "code",
   "execution_count": 29,
   "metadata": {},
   "outputs": [],
   "source": [
    "def select_object(obj, auto_null = True):\n",
    "    '''\n",
    "    Select an object from the list of objects\n",
    "    auto_null -> True or False [DEFAULT = True] -> if True, then set room_num to None after 2 seconds\n",
    "    '''\n",
    "    obj_ref = db.reference('/objects/detected_objs')\n",
    "    detected_objects = obj_ref.get()\n",
    "    assert obj in detected_objects, \"Object not in detected objects\"\n",
    "    db.reference(\"/mani/object\").set(obj)\n",
    "    if auto_null:\n",
    "        time.sleep(2)\n",
    "        db.reference(\"/mani/object\").set(\"None\")"
   ]
  },
  {
   "cell_type": "markdown",
   "metadata": {},
   "source": [
    "# NAVIGATION\n",
    "Use the code below to update the room number. By default the function will send the room number then send None to the database. To persirt the room room number, set auto_null to false"
   ]
  },
  {
   "cell_type": "code",
   "execution_count": 27,
   "metadata": {},
   "outputs": [],
   "source": [
    "room_num = \"room 3108\"\n",
    "select_room_num(room_num)"
   ]
  },
  {
   "cell_type": "markdown",
   "metadata": {},
   "source": [
    "# MANUPILATION & PERCEPTION\n",
    "Use the code below to update the selected. By default the function will send the selected obj then send None to the database. To persirt the value, set auto_null to false"
   ]
  },
  {
   "cell_type": "markdown",
   "metadata": {},
   "source": [
    "### UPLOAD NEW OBJS"
   ]
  },
  {
   "cell_type": "code",
   "execution_count": 33,
   "metadata": {},
   "outputs": [],
   "source": [
    "list_of_detected_objs = [\"cup\" , \"apple\", \"banana\", \"orange\", \"pear\", \"watermelon\"]\n",
    "upload_list_of_objects(list_of_detected_objs)"
   ]
  },
  {
   "cell_type": "markdown",
   "metadata": {},
   "source": [
    "### PRINT DETECTED OBJS"
   ]
  },
  {
   "cell_type": "code",
   "execution_count": 34,
   "metadata": {},
   "outputs": [
    {
     "name": "stdout",
     "output_type": "stream",
     "text": [
      "['cup', 'apple', 'banana', 'orange', 'pear', 'watermelon']\n"
     ]
    }
   ],
   "source": [
    "print_detected_objects()"
   ]
  },
  {
   "cell_type": "markdown",
   "metadata": {},
   "source": [
    "### SELECT AN OBJ\n",
    "Update the database with the selected object which then the Manipulation will grasp"
   ]
  },
  {
   "cell_type": "code",
   "execution_count": 35,
   "metadata": {},
   "outputs": [],
   "source": [
    "selecte_obj = \"apple\"\n",
    "select_object(selecte_obj)"
   ]
  },
  {
   "cell_type": "code",
   "execution_count": null,
   "metadata": {},
   "outputs": [],
   "source": []
  }
 ],
 "metadata": {
  "interpreter": {
   "hash": "aee8b7b246df8f9039afb4144a1f6fd8d2ca17a180786b69acc140d282b71a49"
  },
  "kernelspec": {
   "display_name": "Python 3.10.2 64-bit",
   "language": "python",
   "name": "python3"
  },
  "language_info": {
   "codemirror_mode": {
    "name": "ipython",
    "version": 3
   },
   "file_extension": ".py",
   "mimetype": "text/x-python",
   "name": "python",
   "nbconvert_exporter": "python",
   "pygments_lexer": "ipython3",
   "version": "3.10.2"
  },
  "orig_nbformat": 4
 },
 "nbformat": 4,
 "nbformat_minor": 2
}
